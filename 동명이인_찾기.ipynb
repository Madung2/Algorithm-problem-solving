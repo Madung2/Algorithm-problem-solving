{
  "nbformat": 4,
  "nbformat_minor": 0,
  "metadata": {
    "colab": {
      "provenance": [],
      "authorship_tag": "ABX9TyOR9/Shm+jPnk0CR8/CL2vI",
      "include_colab_link": true
    },
    "kernelspec": {
      "name": "python3",
      "display_name": "Python 3"
    },
    "language_info": {
      "name": "python"
    }
  },
  "cells": [
    {
      "cell_type": "markdown",
      "metadata": {
        "id": "view-in-github",
        "colab_type": "text"
      },
      "source": [
        "<a href=\"https://colab.research.google.com/github/Madung2/Algorithm-problem-solving/blob/main/%EB%8F%99%EB%AA%85%EC%9D%B4%EC%9D%B8_%EC%B0%BE%EA%B8%B0.ipynb\" target=\"_parent\"><img src=\"https://colab.research.google.com/assets/colab-badge.svg\" alt=\"Open In Colab\"/></a>"
      ]
    },
    {
      "cell_type": "code",
      "execution_count": 4,
      "metadata": {
        "id": "qcMFGXxhgFUC"
      },
      "outputs": [],
      "source": [
        "names = ['Tom', 'Jerry', 'Mike', 'Tom', 'Jerry', 'Tasha', 'Hatem', 'Jake', 'Chea']"
      ]
    },
    {
      "cell_type": "code",
      "source": [
        "name_set= set(names)"
      ],
      "metadata": {
        "id": "ShEegaohgbG9"
      },
      "execution_count": null,
      "outputs": []
    },
    {
      "cell_type": "code",
      "source": [
        "print(name_set)"
      ],
      "metadata": {
        "colab": {
          "base_uri": "https://localhost:8080/"
        },
        "id": "KE9bqhUjgg3-",
        "outputId": "072cff29-2930-448d-9087-524784bd1c8c"
      },
      "execution_count": null,
      "outputs": [
        {
          "output_type": "stream",
          "name": "stdout",
          "text": [
            "{'Tom', 'Mike', 'Jerry'}\n"
          ]
        }
      ]
    },
    {
      "cell_type": "code",
      "source": [
        "# 동명이인을 찾는 알고리즘"
      ],
      "metadata": {
        "id": "kI8vVuqzgknt"
      },
      "execution_count": null,
      "outputs": []
    },
    {
      "cell_type": "code",
      "source": [
        "len"
      ],
      "metadata": {
        "id": "6UjCiVPu359P"
      },
      "execution_count": null,
      "outputs": []
    },
    {
      "cell_type": "code",
      "source": [
        "def same_name(ls):\n",
        "  n = len(ls)\n",
        "  result = set()\n",
        "  for i in range(0, n-1):\n",
        "    for j in range(i+1, n):\n",
        "      if ls[i] == ls[j]:\n",
        "        result.add(ls[i])\n",
        "  return result"
      ],
      "metadata": {
        "id": "YBPiPynZhFer"
      },
      "execution_count": 2,
      "outputs": []
    },
    {
      "cell_type": "code",
      "source": [
        "same_name(names)"
      ],
      "metadata": {
        "colab": {
          "base_uri": "https://localhost:8080/"
        },
        "id": "tOxKXJi-4zLC",
        "outputId": "f0b0d0cc-b14a-4118-fb4b-4b36a8f7929a"
      },
      "execution_count": 5,
      "outputs": [
        {
          "output_type": "execute_result",
          "data": {
            "text/plain": [
              "{'Jerry', 'Tom'}"
            ]
          },
          "metadata": {},
          "execution_count": 5
        }
      ]
    }
  ]
}