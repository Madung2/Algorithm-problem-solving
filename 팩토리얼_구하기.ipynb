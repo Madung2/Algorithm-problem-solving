{
  "nbformat": 4,
  "nbformat_minor": 0,
  "metadata": {
    "colab": {
      "provenance": [],
      "authorship_tag": "ABX9TyNZsHJAenkfqytQiYdrGdFd",
      "include_colab_link": true
    },
    "kernelspec": {
      "name": "python3",
      "display_name": "Python 3"
    },
    "language_info": {
      "name": "python"
    }
  },
  "cells": [
    {
      "cell_type": "markdown",
      "metadata": {
        "id": "view-in-github",
        "colab_type": "text"
      },
      "source": [
        "<a href=\"https://colab.research.google.com/github/Madung2/Algorithm-problem-solving/blob/main/%ED%8C%A9%ED%86%A0%EB%A6%AC%EC%96%BC_%EA%B5%AC%ED%95%98%EA%B8%B0.ipynb\" target=\"_parent\"><img src=\"https://colab.research.google.com/assets/colab-badge.svg\" alt=\"Open In Colab\"/></a>"
      ]
    },
    {
      "cell_type": "code",
      "source": [],
      "metadata": {
        "id": "vP7f64oR6iwh"
      },
      "execution_count": null,
      "outputs": []
    },
    {
      "cell_type": "code",
      "execution_count": 10,
      "metadata": {
        "id": "FLJgbNoj5nTe"
      },
      "outputs": [],
      "source": [
        "# 재귀함수\n",
        "def factorial(n):\n",
        "  if n==1:\n",
        "    return n\n",
        "  else:\n",
        "    return factorial(n-1) * n"
      ]
    },
    {
      "cell_type": "code",
      "source": [
        "factorial(3)"
      ],
      "metadata": {
        "colab": {
          "base_uri": "https://localhost:8080/"
        },
        "id": "aQ7VDm9b6QIi",
        "outputId": "f50109a5-b17a-406e-fa2b-e5aa65ee83b2"
      },
      "execution_count": 11,
      "outputs": [
        {
          "output_type": "execute_result",
          "data": {
            "text/plain": [
              "6"
            ]
          },
          "metadata": {},
          "execution_count": 11
        }
      ]
    },
    {
      "cell_type": "code",
      "source": [
        "# for 문 사용\n",
        "def factorial2(n):\n",
        "  res= 1\n",
        "  for i in range(1, n+1):\n",
        "    res *= i\n",
        "  return res"
      ],
      "metadata": {
        "id": "yy25s_4A6hlK"
      },
      "execution_count": 15,
      "outputs": []
    },
    {
      "cell_type": "code",
      "source": [
        "factorial2(3)"
      ],
      "metadata": {
        "colab": {
          "base_uri": "https://localhost:8080/"
        },
        "id": "i0VSi7Qt7GPf",
        "outputId": "a78c28fb-3a7a-4e7f-aab3-bafdbe3247ce"
      },
      "execution_count": 16,
      "outputs": [
        {
          "output_type": "execute_result",
          "data": {
            "text/plain": [
              "6"
            ]
          },
          "metadata": {},
          "execution_count": 16
        }
      ]
    },
    {
      "cell_type": "code",
      "source": [
        "# while문 사용\n",
        "def factorial3(n):\n",
        "  \n",
        "  res = 1\n",
        "  while True:\n",
        "    if n == 1:\n",
        "      break\n",
        "    res *= n\n",
        "    n= n-1\n",
        "  return res\n",
        "\n",
        "factorial3(3)"
      ],
      "metadata": {
        "colab": {
          "base_uri": "https://localhost:8080/"
        },
        "id": "Ew10OkR67Snt",
        "outputId": "53ce01fe-c488-4193-ef61-5ca62bdcf588"
      },
      "execution_count": 18,
      "outputs": [
        {
          "output_type": "execute_result",
          "data": {
            "text/plain": [
              "6"
            ]
          },
          "metadata": {},
          "execution_count": 18
        }
      ]
    },
    {
      "cell_type": "code",
      "source": [
        "## 연습문제 : 1부터 n의 합을 재귀호출로 만들어보자\n",
        "def add_all_num_until(n):\n",
        "  if n == 1:\n",
        "    return 1\n",
        "  else:\n",
        "    return add_all_num_until(n-1) + n\n",
        "\n",
        "add_all_num_until(10)\n"
      ],
      "metadata": {
        "colab": {
          "base_uri": "https://localhost:8080/"
        },
        "id": "g_qvx6EQ7-4P",
        "outputId": "bd6039fb-8685-4dad-d5ba-2cbc7fe40ad3"
      },
      "execution_count": 19,
      "outputs": [
        {
          "output_type": "execute_result",
          "data": {
            "text/plain": [
              "55"
            ]
          },
          "metadata": {},
          "execution_count": 19
        }
      ]
    },
    {
      "cell_type": "code",
      "source": [
        "## 연습문제  : 최대값 찾기를 재귀호출로 만들어보자\n",
        "nums = [17, 92, 18, 33, 58, 7, 33, 42]\n",
        "def find_max_num(nums):\n",
        "  if len(nums) == 1:\n",
        "    return nums[0]\n",
        "  \n",
        "  before_ls = nums[:len(nums)-1]\n",
        "  if find_max_num(before_ls)>nums[-1]:\n",
        "    return find_max_num(before_ls)\n",
        "  else:\n",
        "    return nums[-1]\n",
        "\n",
        "find_max_num(nums)\n"
      ],
      "metadata": {
        "colab": {
          "base_uri": "https://localhost:8080/"
        },
        "id": "utOMIDl48hqz",
        "outputId": "0586a21d-4b99-4b9b-9bc6-f6a7e0c80015"
      },
      "execution_count": 22,
      "outputs": [
        {
          "output_type": "execute_result",
          "data": {
            "text/plain": [
              "92"
            ]
          },
          "metadata": {},
          "execution_count": 22
        }
      ]
    }
  ]
}