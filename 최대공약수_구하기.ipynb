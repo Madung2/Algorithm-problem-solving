{
  "nbformat": 4,
  "nbformat_minor": 0,
  "metadata": {
    "colab": {
      "provenance": [],
      "authorship_tag": "ABX9TyM0Mf7AEt273GiKV190ElCt",
      "include_colab_link": true
    },
    "kernelspec": {
      "name": "python3",
      "display_name": "Python 3"
    },
    "language_info": {
      "name": "python"
    }
  },
  "cells": [
    {
      "cell_type": "markdown",
      "metadata": {
        "id": "view-in-github",
        "colab_type": "text"
      },
      "source": [
        "<a href=\"https://colab.research.google.com/github/Madung2/Algorithm-problem-solving/blob/main/%EC%B5%9C%EB%8C%80%EA%B3%B5%EC%95%BD%EC%88%98_%EA%B5%AC%ED%95%98%EA%B8%B0.ipynb\" target=\"_parent\"><img src=\"https://colab.research.google.com/assets/colab-badge.svg\" alt=\"Open In Colab\"/></a>"
      ]
    },
    {
      "cell_type": "code",
      "execution_count": 6,
      "metadata": {
        "colab": {
          "base_uri": "https://localhost:8080/"
        },
        "id": "nBWXb_zw-ltO",
        "outputId": "92b647df-8801-41d8-caf9-3b72d8d1cb68"
      },
      "outputs": [
        {
          "output_type": "execute_result",
          "data": {
            "text/plain": [
              "12"
            ]
          },
          "metadata": {},
          "execution_count": 6
        }
      ],
      "source": [
        "def gcd(a, b):\n",
        "  try_num = min(a,b)\n",
        "  while True:\n",
        "    if a%try_num == 0  and b%try_num == 0:\n",
        "      return try_num\n",
        "    try_num = try_num-1\n",
        "\n",
        "\n",
        "gcd(48,60)"
      ]
    },
    {
      "cell_type": "markdown",
      "source": [
        "유클리드 알고리즘\n",
        "\n",
        "a,b 의 최대공약수는 'b'와 'a를 b로 나눈 나머지'의 최대공약수와 같다\n",
        "어떤 수와 0의 최대공약수는 자기자신이다. 즉 gcd(n,0) = n이다."
      ],
      "metadata": {
        "id": "etEpznw7AqLK"
      }
    },
    {
      "cell_type": "code",
      "source": [],
      "metadata": {
        "id": "9ZiTqnMIAtO4"
      },
      "execution_count": null,
      "outputs": []
    }
  ]
}