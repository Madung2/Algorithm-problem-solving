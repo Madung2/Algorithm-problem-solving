{
  "nbformat": 4,
  "nbformat_minor": 0,
  "metadata": {
    "colab": {
      "provenance": [],
      "authorship_tag": "ABX9TyP+rYcyWVO02HiAdSt41Iar",
      "include_colab_link": true
    },
    "kernelspec": {
      "name": "python3",
      "display_name": "Python 3"
    },
    "language_info": {
      "name": "python"
    }
  },
  "cells": [
    {
      "cell_type": "markdown",
      "metadata": {
        "id": "view-in-github",
        "colab_type": "text"
      },
      "source": [
        "<a href=\"https://colab.research.google.com/github/Madung2/Algorithm-problem-solving/blob/main/%EC%B5%9C%EB%8C%80%EA%B0%92_%EC%B0%BE%EA%B8%B0.ipynb\" target=\"_parent\"><img src=\"https://colab.research.google.com/assets/colab-badge.svg\" alt=\"Open In Colab\"/></a>"
      ]
    },
    {
      "cell_type": "code",
      "source": [
        "ls1 = [17, 92, 18, 33, 58, 7, 33, 42]"
      ],
      "metadata": {
        "id": "hZb-HYytdGzC"
      },
      "execution_count": 4,
      "outputs": []
    },
    {
      "cell_type": "code",
      "source": [
        "# 리스트에서 최대값 찾기 O(n)"
      ],
      "metadata": {
        "id": "2mF_URRZesWZ"
      },
      "execution_count": null,
      "outputs": []
    },
    {
      "cell_type": "code",
      "execution_count": 2,
      "metadata": {
        "id": "z4Xk-NfMc9NN"
      },
      "outputs": [],
      "source": [
        "def find_max1(ls):\n",
        "  max_v = ls1[0]\n",
        "  for n in ls1:\n",
        "    if n > max_v:\n",
        "     max_v = n\n",
        "  return max_v"
      ]
    },
    {
      "cell_type": "code",
      "source": [
        "print(find_max1(ls1))"
      ],
      "metadata": {
        "colab": {
          "base_uri": "https://localhost:8080/"
        },
        "id": "KKRjp6FJeUs-",
        "outputId": "f73b1015-5dea-42f0-8b78-4e4ac31bca43"
      },
      "execution_count": 5,
      "outputs": [
        {
          "output_type": "stream",
          "name": "stdout",
          "text": [
            "92\n"
          ]
        }
      ]
    },
    {
      "cell_type": "code",
      "source": [
        "# 리스트에서 최대값이 있는 인덱스 찾기 O(n)"
      ],
      "metadata": {
        "id": "ZX4hlgQZevD6"
      },
      "execution_count": null,
      "outputs": []
    },
    {
      "cell_type": "code",
      "source": [
        "def find_max1_num(ls):\n",
        "  max_v = ls1[0]\n",
        "  max_idx = 0 \n",
        "  for i, n in enumerate(ls1):\n",
        "    if n > max_v:\n",
        "      max_v = n\n",
        "      max_idx = i\n",
        "  return max_idx\n"
      ],
      "metadata": {
        "id": "JNYBtdx7enJw"
      },
      "execution_count": 8,
      "outputs": []
    },
    {
      "cell_type": "code",
      "source": [
        "print(find_max1_num(ls1))"
      ],
      "metadata": {
        "colab": {
          "base_uri": "https://localhost:8080/"
        },
        "id": "8uFdoLnOfQuM",
        "outputId": "4a6a8370-751c-4791-b604-60e75ac4299f"
      },
      "execution_count": 9,
      "outputs": [
        {
          "output_type": "stream",
          "name": "stdout",
          "text": [
            "1\n"
          ]
        }
      ]
    }
  ]
}