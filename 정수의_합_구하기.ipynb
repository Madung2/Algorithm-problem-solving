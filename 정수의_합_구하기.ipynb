{
  "nbformat": 4,
  "nbformat_minor": 0,
  "metadata": {
    "colab": {
      "provenance": [],
      "authorship_tag": "ABX9TyObDsxhuOX6O7wtdqJxOizj",
      "include_colab_link": true
    },
    "kernelspec": {
      "name": "python3",
      "display_name": "Python 3"
    },
    "language_info": {
      "name": "python"
    }
  },
  "cells": [
    {
      "cell_type": "markdown",
      "metadata": {
        "id": "view-in-github",
        "colab_type": "text"
      },
      "source": [
        "<a href=\"https://colab.research.google.com/github/Madung2/Algorithm-problem-solving/blob/main/%EC%A0%95%EC%88%98%EC%9D%98_%ED%95%A9_%EA%B5%AC%ED%95%98%EA%B8%B0.ipynb\" target=\"_parent\"><img src=\"https://colab.research.google.com/assets/colab-badge.svg\" alt=\"Open In Colab\"/></a>"
      ]
    },
    {
      "cell_type": "code",
      "execution_count": null,
      "metadata": {
        "id": "ZrjSCuvbQpWz"
      },
      "outputs": [],
      "source": [
        "# 1부터 n까지 연속한 정수의 합을 구하는 알고리즘을 만들어보세요."
      ]
    },
    {
      "cell_type": "code",
      "source": [
        "# sum 함수 사용\n",
        "def sum_of_int1(n):\n",
        "  return sum(range(1, n+1))\n",
        "\n",
        "# 이 함수의 시간 복잡도는 O(n)입니다. 이 함수는 주어진 n 값에 대해 1부터 n까지의 숫자를 모두 더합니다. 이를 수행하기 위해 range(1, n+1)을 호출하여 1부터 n까지의 숫자 목록을 만듭니다. 그런 다음, sum() 함수를 사용하여 목록의 합을 계산합니다. range() 함수는 O(1) 시간에 작동하며, sum() 함수는 n 개의 요소를 가진 목록의 합을 계산하기 때문에 O(n) 시간이 소요됩니다. 따라서 이 함수의 총 시간 복잡도는 O(n)입니다."
      ],
      "metadata": {
        "id": "mRDYvFW9RjXI"
      },
      "execution_count": 7,
      "outputs": []
    },
    {
      "cell_type": "code",
      "source": [
        "#n(n+1)/2\n",
        "def sum_of_int2(n):\n",
        "  return (n**2+n)//2\n",
        "# O(1)"
      ],
      "metadata": {
        "id": "9NTeTJTIQwSi"
      },
      "execution_count": 8,
      "outputs": []
    },
    {
      "cell_type": "code",
      "source": [
        "# 루프를 하자 O(n)\n",
        "def sum_of_int3(n):\n",
        "  added_num = 0\n",
        "  while True:\n",
        "    added_num += n\n",
        "    n=n-1\n",
        "    if n == 0:\n",
        "      return added_num"
      ],
      "metadata": {
        "id": "mdPrJlQ1Sdm6"
      },
      "execution_count": 20,
      "outputs": []
    },
    {
      "cell_type": "code",
      "source": [
        "# for문 사용  O(N)\n",
        "def sum_of_int4(n):\n",
        "  added_num = 0\n",
        "  for i in range(1, n+1):\n",
        "    added_num+=i\n",
        "  return added_num"
      ],
      "metadata": {
        "id": "mufBNj_hUki_"
      },
      "execution_count": 22,
      "outputs": []
    },
    {
      "cell_type": "code",
      "source": [
        "print(sum_of_int1(3))\n",
        "print(sum_of_int2(3))\n",
        "print(sum_of_int3(3))\n",
        "print(sum_of_int4(3))"
      ],
      "metadata": {
        "colab": {
          "base_uri": "https://localhost:8080/"
        },
        "id": "Yh5TYs3AR042",
        "outputId": "66fada19-3341-41fb-8201-02825ded4547"
      },
      "execution_count": 23,
      "outputs": [
        {
          "output_type": "stream",
          "name": "stdout",
          "text": [
            "6\n",
            "6\n",
            "6\n",
            "6\n"
          ]
        }
      ]
    }
  ]
}